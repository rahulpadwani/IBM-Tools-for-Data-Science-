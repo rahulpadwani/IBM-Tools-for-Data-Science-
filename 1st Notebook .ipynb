{
 "cells": [
  {
   "cell_type": "markdown",
   "id": "64316389-5913-4ad1-82a5-a380f2232958",
   "metadata": {},
   "source": [
    "# Introduction to Data Science Languages\n",
    "\n",
    "Below is a list of popular programming languages used in data science:\n",
    "\n",
    "1. Python\n",
    "2. R\n",
    "3. SQL\n",
    "4. Julia\n",
    "5. Scala"
   ]
  },
  {
   "cell_type": "markdown",
   "id": "470ec72a-85c0-46e5-bf16-20869a58164c",
   "metadata": {},
   "source": [
    "# Introduction to Data Science Libraries\n",
    "\n",
    "Below is a list of popular libraries used in data science:\n",
    "\n",
    "1. Pandas\n",
    "2. NumPy\n",
    "3. Scikit-learn\n",
    "4. TensorFlow\n",
    "5. PyTorch"
   ]
  },
  {
   "cell_type": "markdown",
   "id": "3c84f80b-4114-489e-ace7-e694002b237b",
   "metadata": {},
   "source": [
    "# Data Science Tools\n",
    "\n",
    "Below is a table of popular tools used in Data Science:\n",
    "\n",
    "| Tool Category       | Tool Name          |\n",
    "|---------------------|--------------------|\n",
    "| Programming Languages | Python, R, Julia  |\n",
    "| Data Visualization  | Matplotlib, Seaborn, Tableau |\n",
    "| Machine Learning    | Scikit-learn, TensorFlow, PyTorch |\n",
    "| Big Data            | Hadoop, Spark      |\n",
    "| Database Management | SQL, MongoDB       |"
   ]
  },
  {
   "cell_type": "markdown",
   "id": "f491f618-5923-4f95-9558-265cb2258336",
   "metadata": {},
   "source": [
    "# Introduction to Arithmetic Expressions\n",
    "\n",
    "Arithmetic expressions are fundamental in programming and data science. They involve basic mathematical operations such as addition, subtraction, multiplication, and division. Below are some examples of arithmetic expressions:\n",
    "\n",
    "- Addition: `5 + 3 = 8`\n",
    "- Subtraction: `10 - 4 = 6`\n",
    "- Multiplication: `7 * 2 = 14`\n",
    "- Division: `20 / 5 = 4`"
   ]
  },
  {
   "cell_type": "code",
   "execution_count": 17,
   "id": "568cbfc9-21bf-4b5a-b007-1d54c64a1105",
   "metadata": {},
   "outputs": [
    {
     "name": "stdout",
     "output_type": "stream",
     "text": [
      "The product of 5 and 10 is: 50\n",
      "The sum of 5 and 10 is: 15\n"
     ]
    }
   ],
   "source": [
    "# Multiply and Add Numbers\n",
    "\n",
    "# Define two numbers\n",
    "num1 = 5\n",
    "num2 = 10\n",
    "\n",
    "# Multiply the numbers\n",
    "product = num1 * num2\n",
    "\n",
    "# Add the numbers\n",
    "sum_result = num1 + num2\n",
    "\n",
    "# Display the results\n",
    "print(f\"The product of {num1} and {num2} is: {product}\")\n",
    "print(f\"The sum of {num1} and {num2} is: {sum_result}\")"
   ]
  },
  {
   "cell_type": "code",
   "execution_count": 19,
   "id": "91cf3882-a2fc-4030-a34f-eefbbddc3ecb",
   "metadata": {},
   "outputs": [
    {
     "name": "stdout",
     "output_type": "stream",
     "text": [
      "150 minutes is equal to 2.50 hours.\n"
     ]
    }
   ],
   "source": [
    "# Convert Minutes to Hours\n",
    "\n",
    "# Define the number of minutes\n",
    "minutes = 150\n",
    "\n",
    "# Convert minutes to hours\n",
    "hours = minutes / 60\n",
    "\n",
    "# Display the result\n",
    "print(f\"{minutes} minutes is equal to {hours:.2f} hours.\")"
   ]
  },
  {
   "cell_type": "markdown",
   "id": "31121c02-0842-440e-9dcd-a1d345391e5c",
   "metadata": {},
   "source": [
    "# Objectives\n",
    "\n",
    "In this notebook, we aim to achieve the following objectives:\n",
    "\n",
    "- Learn about popular programming languages for Data Science.\n",
    "- Explore essential libraries and tools used in Data Science.\n",
    "- Perform basic arithmetic operations in Python.\n",
    "- Convert units (e.g., minutes to hours) programmatically.\n",
    "- Understand the importance of markdown for documentation."
   ]
  },
  {
   "cell_type": "markdown",
   "id": "192c909d-6d1f-4e01-8e26-9da1e216b39f",
   "metadata": {},
   "source": [
    "Author : Rahul Padwani"
   ]
  },
  {
   "cell_type": "code",
   "execution_count": null,
   "id": "ad27f406-471e-45d4-a46f-9974c2ef28ec",
   "metadata": {},
   "outputs": [],
   "source": []
  }
 ],
 "metadata": {
  "kernelspec": {
   "display_name": "Python [conda env:base] *",
   "language": "python",
   "name": "conda-base-py"
  },
  "language_info": {
   "codemirror_mode": {
    "name": "ipython",
    "version": 3
   },
   "file_extension": ".py",
   "mimetype": "text/x-python",
   "name": "python",
   "nbconvert_exporter": "python",
   "pygments_lexer": "ipython3",
   "version": "3.11.5"
  }
 },
 "nbformat": 4,
 "nbformat_minor": 5
}
